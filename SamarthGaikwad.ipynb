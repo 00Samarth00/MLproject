{
  "nbformat": 4,
  "nbformat_minor": 0,
  "metadata": {
    "colab": {
      "name": "SamarthGaikwad.ipynb",
      "provenance": []
    },
    "kernelspec": {
      "name": "python3",
      "display_name": "Python 3"
    },
    "language_info": {
      "name": "python"
    }
  },
  "cells": [
    {
      "cell_type": "markdown",
      "metadata": {
        "id": "dJqb9xWnWYuY"
      },
      "source": [
        ""
      ]
    },
    {
      "cell_type": "code",
      "metadata": {
        "colab": {
          "base_uri": "https://localhost:8080/"
        },
        "id": "BTngfSKIQk1Q",
        "outputId": "2bdcfe55-0985-4a8e-9456-d21be37daebe"
      },
      "source": [
        "import numpy as np\n",
        "import pandas as pd\n",
        "import sklearn\n",
        "\n",
        "from sklearn.datasets import load_boston\n",
        "df = load_boston()\n",
        "\n",
        "boston = pd.DataFrame(df.data,columns=df.feature_names)\n",
        "boston['MEDV']=df.target\n",
        "\n",
        "from sklearn.model_selection import train_test_split\n",
        "X=boston.drop('MEDV',axis=1)\n",
        "Y=boston['MEDV']\n",
        "X_train,X_test,Y_train,Y_test=train_test_split(X,Y,test_size=0.15,random_state=5)\n",
        "\n",
        "from sklearn.linear_model import LinearRegression\n",
        "from sklearn.metrics import mean_squared_error\n",
        "\n",
        "lin_model=LinearRegression()\n",
        "lin_model.fit(X_train,Y_train)\n",
        "y_train_predict=lin_model.predict(X_train)\n",
        "rmse_train=(np.sqrt(mean_squared_error(Y_train,y_train_predict)))\n",
        "\n",
        "print(\"The model performance for training data set\")\n",
        "print(\"RMSE id {}\".format(rmse_train))\n",
        "print('\\n')\n",
        "\n",
        "y_test_predict=lin_model.predict(X_test)\n",
        "rmse_test=(np.sqrt(mean_squared_error(Y_test,y_test_predict)))\n",
        "\n",
        "print('The performance for test data set')\n",
        "print('RMSE is {}'.format(rmse_test))\n",
        "\n"
      ],
      "execution_count": 2,
      "outputs": [
        {
          "output_type": "stream",
          "text": [
            "The model performance for training data set\n",
            "RMSE id 4.710901797319796\n",
            "\n",
            "\n",
            "The performance for test data set\n",
            "RMSE is 4.687543527902972\n"
          ],
          "name": "stdout"
        }
      ]
    }
  ]
}